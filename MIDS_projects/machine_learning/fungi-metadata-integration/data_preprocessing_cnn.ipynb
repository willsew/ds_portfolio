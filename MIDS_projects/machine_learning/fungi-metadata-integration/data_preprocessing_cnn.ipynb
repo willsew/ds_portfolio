{
 "cells": [
  {
   "cell_type": "code",
   "execution_count": null,
   "metadata": {},
   "outputs": [],
   "source": [
    "import tensorflow as tf\n",
    "from tensorflow.keras import layers, models\n",
    "import pandas as pd\n",
    "import os\n",
    "import numpy as np\n",
    "from tensorflow.keras.preprocessing.image import load_img, img_to_array, save_img\n",
    "from sklearn.preprocessing import LabelEncoder\n",
    "from sklearn.model_selection import train_test_split\n",
    "import matplotlib.pyplot as plt\n",
    "from tqdm import tqdm\n"
   ]
  },
  {
   "cell_type": "code",
   "execution_count": 111,
   "metadata": {},
   "outputs": [],
   "source": [
    "train_imgs_path = '../data/fungi-clef-2025/images/FungiTastic-FewShot/train/300p/'\n",
    "val_imgs_path = '../data/fungi-clef-2025/images/FungiTastic-FewShot/val/300p/'\n",
    "# test_imgs_path = '../data/fungi-clef-2025/images/FungiTastic-FewShot/test/300p/'\n",
    "\n",
    "train_metadata_path = '../data/fungi-clef-2025/metadata/FungiTastic-FewShot/FungiTastic-FewShot-Train.csv'\n",
    "val_metadata_path = '../data/fungi-clef-2025/metadata/FungiTastic-FewShot/FungiTastic-FewShot-Val.csv'\n",
    "# test_metadata_path = '../data/fungi-clef-2025/metadata/FungiTastic-FewShot/FungiTastic-FewShot-Test.csv'\n",
    "\n",
    "df_train = pd.read_csv(train_metadata_path)\n",
    "df_train['filepath'] = train_imgs_path + df_train['filename']\n",
    "\n",
    "df_val = pd.read_csv(val_metadata_path)\n",
    "df_val['filepath'] = val_imgs_path + df_val['filename']"
   ]
  },
  {
   "cell_type": "code",
   "execution_count": 112,
   "metadata": {},
   "outputs": [],
   "source": [
    "# Gets rid of low frequency classes (less than 10 observations)\n",
    "valid_classes = df_train['class'].value_counts()\n",
    "valid_classes = valid_classes[valid_classes >= 10].index\n",
    "\n",
    "# Filter to keep only those classes\n",
    "df_train = df_train[df_train['class'].isin(valid_classes)]\n",
    "df_val = df_val[df_val['class'].isin(valid_classes)]"
   ]
  },
  {
   "cell_type": "code",
   "execution_count": 113,
   "metadata": {},
   "outputs": [
    {
     "name": "stdout",
     "output_type": "stream",
     "text": [
      "{'Pezizomycetes', 'Exobasidiomycetes', 'Agaricomycetes', 'Eurotiomycetes', 'Coniocybomycetes', 'Peronosporea', 'Orbiliomycetes', 'Entomophthoromycetes', 'Tremellomycetes', 'Mucoromycetes', 'Leotiomycetes', 'Microbotryomycetes', 'Laboulbeniomycetes', 'Myxomycetes', 'Candelariomycetes', 'Lecanoromycetes', 'Sordariomycetes', 'Geoglossomycetes', 'Arthoniomycetes', 'Pucciniomycetes', 'Taphrinomycetes', 'Ustilaginomycetes', 'Dacrymycetes', 'Dothideomycetes'}\n",
      "{'Pezizomycetes', 'Exobasidiomycetes', 'Agaricomycetes', 'Eurotiomycetes', 'Coniocybomycetes', 'Peronosporea', 'Orbiliomycetes', 'Entomophthoromycetes', 'Tremellomycetes', 'Mucoromycetes', 'Leotiomycetes', 'Microbotryomycetes', 'Laboulbeniomycetes', 'Myxomycetes', 'Candelariomycetes', 'Lecanoromycetes', 'Sordariomycetes', 'Geoglossomycetes', 'Arthoniomycetes', 'Pucciniomycetes', 'Taphrinomycetes', 'Ustilaginomycetes', 'Dacrymycetes', 'Dothideomycetes'}\n"
     ]
    }
   ],
   "source": [
    "#preprocessing\n",
    "\n",
    "# #1 rename current validation set to new test set\n",
    "df_test = df_val.copy()\n",
    "\n",
    "# # #2 Keep only classes with at least 2 samples in order to stratify\n",
    "# class_counts = df_train['class'].value_counts()\n",
    "# valid_classes = class_counts[class_counts >= 2].index\n",
    "# df_train_filtered = df_train[df_train['class'].isin(valid_classes)]\n",
    "\n",
    "# #3 Split while stratifying by class\n",
    "df_train, df_val = train_test_split(\n",
    "    df_train,\n",
    "    test_size=0.2,\n",
    "    stratify=df_train['class'],  # preserves class distribution\n",
    "    random_state=42\n",
    ")\n",
    "\n",
    "# #4 remove observations with missing features\n",
    "df_train = df_train.dropna()\n",
    "df_val = df_val.dropna()\n",
    "df_test = df_test.dropna()\n",
    "\n",
    "# #5 Ensure all classes in df_val are also in df_train\n",
    "train_classes = set(df_train['class'])\n",
    "val_classes = set(df_val['class'])\n",
    "print(train_classes)\n",
    "print(val_classes)\n",
    "# df_val = df_val[df_val['class'].isin(train_classes)]  # filter out unseen classes\n"
   ]
  },
  {
   "cell_type": "code",
   "execution_count": 114,
   "metadata": {},
   "outputs": [
    {
     "name": "stdout",
     "output_type": "stream",
     "text": [
      "5571\n",
      "1406\n",
      "2180\n"
     ]
    }
   ],
   "source": [
    "print(len(df_train))\n",
    "print(len(df_val))\n",
    "print(len(df_test))"
   ]
  },
  {
   "cell_type": "code",
   "execution_count": 115,
   "metadata": {},
   "outputs": [],
   "source": [
    "# enumerate class labels\n",
    "le = LabelEncoder()\n",
    "# Only fit on training labels\n",
    "le.fit(df_train['class'])\n",
    "\n",
    "# We know the new test (old val) only contains classes that were seen in the old train so model won't be surprised in \n",
    "df_train['label'] = le.transform(df_train['class'])\n",
    "df_val['label'] = le.transform(df_val['class'])\n",
    "df_test['label'] = le.transform(df_test['class'])"
   ]
  },
  {
   "cell_type": "code",
   "execution_count": 116,
   "metadata": {},
   "outputs": [
    {
     "data": {
      "text/plain": [
       "class\n",
       "Agaricomycetes          2202\n",
       "Leotiomycetes            794\n",
       "Sordariomycetes          557\n",
       "Lecanoromycetes          480\n",
       "Dothideomycetes          363\n",
       "Pezizomycetes            325\n",
       "Myxomycetes              286\n",
       "Pucciniomycetes          176\n",
       "Eurotiomycetes            62\n",
       "Ustilaginomycetes         41\n",
       "Tremellomycetes           37\n",
       "Exobasidiomycetes         36\n",
       "Peronosporea              33\n",
       "Orbiliomycetes            26\n",
       "Dacrymycetes              24\n",
       "Mucoromycetes             21\n",
       "Microbotryomycetes        20\n",
       "Arthoniomycetes           17\n",
       "Taphrinomycetes           15\n",
       "Entomophthoromycetes      13\n",
       "Coniocybomycetes          13\n",
       "Geoglossomycetes          11\n",
       "Candelariomycetes         11\n",
       "Laboulbeniomycetes         8\n",
       "Name: count, dtype: int64"
      ]
     },
     "execution_count": 116,
     "metadata": {},
     "output_type": "execute_result"
    }
   ],
   "source": [
    "train_class_counts = df_train['class'].value_counts()\n",
    "train_class_counts"
   ]
  },
  {
   "cell_type": "code",
   "execution_count": null,
   "metadata": {},
   "outputs": [],
   "source": [
    "# Augmenting class images with low frequency\n",
    "\n",
    "# Need a df that just contains the images of the rare classes \n",
    "threshold = int(train_class_counts.mean())\n",
    "# minority_classes = train_class_counts[train_class_counts < threshold].index\n",
    "\n",
    "# # Filter to rows belonging to minority classes\n",
    "# minority_df = df_train[df_train['class'].isin(minority_classes)]\n",
    "# minority_df['class'].value_counts()#.to_csv('minority_df.csv')"
   ]
  },
  {
   "cell_type": "code",
   "execution_count": 122,
   "metadata": {},
   "outputs": [
    {
     "data": {
      "text/plain": [
       "np.int64(62)"
      ]
     },
     "execution_count": 122,
     "metadata": {},
     "output_type": "execute_result"
    }
   ],
   "source": [
    "df_train['class'].value_counts()['Eurotiomycetes']"
   ]
  },
  {
   "cell_type": "code",
   "execution_count": 127,
   "metadata": {},
   "outputs": [],
   "source": [
    "#Create a mapping of each minority class to all of its filepaths\n",
    "class_to_paths = {}\n",
    "for _, row in df_train.iterrows():\n",
    "    curr_class = row['class']\n",
    "    #Checks whether class is underrepresented\n",
    "    if train_class_counts[curr_class] < threshold:\n",
    "        # If not already in the dictionary, initialize empty list\n",
    "        if curr_class not in class_to_paths:\n",
    "            class_to_paths[curr_class] = []\n",
    "        # add filepath of current image to the list for this class\n",
    "        class_to_paths[curr_class].append(row['filepath'])"
   ]
  },
  {
   "cell_type": "code",
   "execution_count": 132,
   "metadata": {},
   "outputs": [],
   "source": [
    "import random\n",
    "\n",
    "def augment_image(image):\n",
    "    # Random flip, brightness, contrast, saturation, hue, rotation\n",
    "    image = tf.image.random_flip_left_right(image)\n",
    "    image = tf.image.random_flip_up_down(image)\n",
    "\n",
    "    image = tf.image.random_brightness(image, max_delta=0.1)\n",
    "    image = tf.image.random_contrast(image, lower=0.8, upper=1.2)\n",
    "\n",
    "    image = tf.image.random_saturation(image, lower=0.8, upper=1.2)\n",
    "\n",
    "    image = tf.image.random_hue(image, max_delta=0.02)\n",
    "\n",
    "    # Random rotation (0=0degrees, 1=90, 2=180, 3=270)\n",
    "    k = random.randint(0, 3)\n",
    "    image = tf.image.rot90(image, k=k)\n",
    "    return image"
   ]
  },
  {
   "cell_type": "code",
   "execution_count": null,
   "metadata": {},
   "outputs": [
    {
     "name": "stderr",
     "output_type": "stream",
     "text": [
      "100%|██████████| 17/17 [00:11<00:00,  1.44it/s]\n"
     ]
    }
   ],
   "source": [
    "# Augment images\n",
    "\n",
    "augmented_metadata = []\n",
    "\n",
    "#loop through each minority class and all the original image filepaths for the current class\n",
    "for curr_class, filepaths in tqdm(class_to_paths.items()):\n",
    "    #count how many images we have and how many more we need to create\n",
    "    current_count = len(filepaths)\n",
    "    num_needed = threshold - current_count\n",
    "\n",
    "    # keep going until there's enough images\n",
    "    # even if a class has only 20 images and we need 200 more, we keep applying different augmentations to those same original 20 images\n",
    "    i = 0 #number of images we've creates so far\n",
    "    while i < num_needed:\n",
    "        # Cycle through existing images if needed\n",
    "        for path in filepaths:\n",
    "            if i >= num_needed:\n",
    "                break\n",
    "            img = load_img(path)\n",
    "            img_tensor = tf.convert_to_tensor(img_to_array(img))\n",
    "            # flip, rotate, birghtness, contrast, saturation, hue\n",
    "            img_tensor = augment_image(img_tensor)\n",
    "            # good to clip values when using birghtness/contrast/hue augmentation, keeps RGB vals between 0 and 255\n",
    "            img_tensor = tf.clip_by_value(img_tensor, 0, 255)\n",
    "\n",
    "            #save aug image\n",
    "            new_filename = f\"{curr_class}_aug_{i}.jpg\"\n",
    "            save_path = os.path.join(\"../data/augmented_images\", new_filename)\n",
    "            #use np.uint8 for raw images or any strictly‑non‑negative quantity that fits in 0‑255 & where memory bandwidth matters\n",
    "            save_img(save_path, img_tensor.numpy().astype(np.uint8))\n",
    "\n",
    "            # Fetch metadata from original DataFrame\n",
    "            # findthe row in df_train that corresponds to the augmented image\n",
    "            meta_row = df_train[df_train['filepath'] == path].iloc[0].copy()\n",
    "            #update path accordingly\n",
    "            meta_row['filepath'] = save_path\n",
    "            meta_row['filename'] = new_filename\n",
    "            augmented_metadata.append(meta_row)\n",
    "            \n",
    "            i += 1"
   ]
  },
  {
   "cell_type": "code",
   "execution_count": 139,
   "metadata": {},
   "outputs": [],
   "source": [
    "df_augmented = pd.DataFrame(augmented_metadata)\n",
    "df_augmented['is_augmented'] = True\n",
    "\n",
    "# Add to original dataframe\n",
    "df_train['is_augmented'] = False\n",
    "df_train_combined = pd.concat([df_train, df_augmented], ignore_index=True)"
   ]
  },
  {
   "cell_type": "code",
   "execution_count": 142,
   "metadata": {},
   "outputs": [
    {
     "data": {
      "text/plain": [
       "class\n",
       "Agaricomycetes          2202\n",
       "Leotiomycetes            794\n",
       "Sordariomycetes          557\n",
       "Lecanoromycetes          480\n",
       "Dothideomycetes          363\n",
       "Pezizomycetes            325\n",
       "Myxomycetes              286\n",
       "Arthoniomycetes          232\n",
       "Laboulbeniomycetes       232\n",
       "Tremellomycetes          232\n",
       "Candelariomycetes        232\n",
       "Coniocybomycetes         232\n",
       "Entomophthoromycetes     232\n",
       "Geoglossomycetes         232\n",
       "Exobasidiomycetes        232\n",
       "Ustilaginomycetes        232\n",
       "Dacrymycetes             232\n",
       "Pucciniomycetes          232\n",
       "Orbiliomycetes           232\n",
       "Peronosporea             232\n",
       "Mucoromycetes            232\n",
       "Microbotryomycetes       232\n",
       "Eurotiomycetes           232\n",
       "Taphrinomycetes          232\n",
       "Name: count, dtype: int64"
      ]
     },
     "execution_count": 142,
     "metadata": {},
     "output_type": "execute_result"
    }
   ],
   "source": [
    "df_train_combined['class'].value_counts()"
   ]
  },
  {
   "cell_type": "code",
   "execution_count": null,
   "metadata": {},
   "outputs": [],
   "source": [
    "# preprocess train image data\n",
    "\n",
    "X_train = []\n",
    "y_train = []\n",
    "\n",
    "for i, row in df_train.iterrows():\n",
    "    # Load image using designated filepath\n",
    "    img = load_img(row['filepath'])\n",
    "    img_array = img_to_array(img)\n",
    "\n",
    "    # Need to convert to tensor to use resize_with_pad\n",
    "    img_tensor = tf.convert_to_tensor(img_array)\n",
    "    # Preserves aspect ratio, pads with black bars to account for resizing\n",
    "    # prevents the image from getting cropped out\n",
    "    img_tensor = tf.image.resize_with_pad(img_tensor, target_height=300, target_width=300)\n",
    "\n",
    "    img_tensor = img_tensor / 255.0  # Normalize\n",
    "\n",
    "    X_train.append(img_tensor)  # DON'T convert back to NumPy (keep as tensor)\n",
    "    y_train.append(row['label'])\n",
    "\n",
    "X_train = tf.stack(X_train) # now shape is (len(df_train), 300, 300, 3)\n",
    "y_train = tf.convert_to_tensor(y_train) #convert outcome to tensor"
   ]
  },
  {
   "cell_type": "code",
   "execution_count": 50,
   "metadata": {},
   "outputs": [],
   "source": [
    "#preprocess val image data\n",
    "\n",
    "X_val = []\n",
    "y_val = []\n",
    "\n",
    "for i, row in df_val.iterrows():\n",
    "    # Load image using designated filepath\n",
    "    img = load_img(row['filepath'])\n",
    "    img_array = img_to_array(img)\n",
    "\n",
    "    # Need to convert to tensor in order to use resize_with_pad\n",
    "    img_tensor = tf.convert_to_tensor(img_array)\n",
    "    # Preserves aspect ratio, pads with black bars to account for resizing\n",
    "    # prevents the image from getting cropped out\n",
    "    img_tensor = tf.image.resize_with_pad(img_tensor, target_height=300, target_width=300)\n",
    "    # ADD EXTRA AUGMENTATION STEPS HERE\n",
    "    # print(type(img_tensor))\n",
    "    img_tensor = img_tensor / 255.0  # Normalize\n",
    "\n",
    "    X_val.append(img_tensor)\n",
    "    y_val.append(row['label'])\n",
    "\n",
    "X_val = tf.stack(X_val)\n",
    "y_val = tf.convert_to_tensor(y_val)"
   ]
  },
  {
   "cell_type": "code",
   "execution_count": 51,
   "metadata": {},
   "outputs": [],
   "source": [
    "#preprocess test image data\n",
    "\n",
    "X_test = []\n",
    "y_test = []\n",
    "\n",
    "for i, row in df_test.iterrows():\n",
    "    # Load image using designated filepath\n",
    "    img = load_img(row['filepath'])\n",
    "    img_array = img_to_array(img)\n",
    "\n",
    "    # Need to convert to tensor in order to use resize_with_pad\n",
    "    img_tensor = tf.convert_to_tensor(img_array)\n",
    "    # Preserves aspect ratio, pads with black bars to account for resizing\n",
    "    # prevents the image from getting cropped out\n",
    "    img_tensor = tf.image.resize_with_pad(img_tensor, target_height=300, target_width=300)\n",
    "    # ADD EXTRA AUGMENTATION STEPS HERE\n",
    "    # print(type(img_tensor))\n",
    "    img_tensor = img_tensor / 255.0  # Normalize\n",
    "\n",
    "    X_test.append(img_tensor)\n",
    "    y_test.append(row['label'])\n",
    "\n",
    "X_test = tf.stack(X_test)\n",
    "y_test = tf.convert_to_tensor(y_test)"
   ]
  },
  {
   "cell_type": "code",
   "execution_count": 29,
   "metadata": {},
   "outputs": [],
   "source": [
    "# define an instance of the early_stopping class\n",
    "early_stopping = tf.keras.callbacks.EarlyStopping(\n",
    "monitor='accuracy',\n",
    "verbose=1,\n",
    "patience=3,\n",
    "mode='max',\n",
    "restore_best_weights=True)"
   ]
  },
  {
   "cell_type": "code",
   "execution_count": null,
   "metadata": {},
   "outputs": [],
   "source": [
    "# naive baseline for training set\n",
    "df_train['class'].value_counts().iloc[0]/len(df_train)"
   ]
  },
  {
   "cell_type": "code",
   "execution_count": 34,
   "metadata": {},
   "outputs": [
    {
     "data": {
      "text/plain": [
       "30"
      ]
     },
     "execution_count": 34,
     "metadata": {},
     "output_type": "execute_result"
    }
   ],
   "source": [
    "num_classes = len(set(y_train.numpy()))\n",
    "num_classes"
   ]
  },
  {
   "cell_type": "code",
   "execution_count": null,
   "metadata": {},
   "outputs": [
    {
     "name": "stdout",
     "output_type": "stream",
     "text": [
      "Epoch 1/5\n",
      "\u001b[1m98/98\u001b[0m \u001b[32m━━━━━━━━━━━━━━━━━━━━\u001b[0m\u001b[37m\u001b[0m \u001b[1m328s\u001b[0m 3s/step - accuracy: 0.3538 - loss: 2.6377 - val_accuracy: 0.4055 - val_loss: 2.1636\n",
      "Epoch 2/5\n",
      "\u001b[1m98/98\u001b[0m \u001b[32m━━━━━━━━━━━━━━━━━━━━\u001b[0m\u001b[37m\u001b[0m \u001b[1m365s\u001b[0m 4s/step - accuracy: 0.3956 - loss: 2.1878 - val_accuracy: 0.4055 - val_loss: 2.1079\n",
      "Epoch 3/5\n",
      "\u001b[1m98/98\u001b[0m \u001b[32m━━━━━━━━━━━━━━━━━━━━\u001b[0m\u001b[37m\u001b[0m \u001b[1m350s\u001b[0m 4s/step - accuracy: 0.4064 - loss: 2.1510 - val_accuracy: 0.4055 - val_loss: 2.0977\n",
      "Epoch 4/5\n",
      "\u001b[1m98/98\u001b[0m \u001b[32m━━━━━━━━━━━━━━━━━━━━\u001b[0m\u001b[37m\u001b[0m \u001b[1m336s\u001b[0m 3s/step - accuracy: 0.4084 - loss: 2.1407 - val_accuracy: 0.4055 - val_loss: 2.0408\n",
      "Epoch 5/5\n",
      "\u001b[1m98/98\u001b[0m \u001b[32m━━━━━━━━━━━━━━━━━━━━\u001b[0m\u001b[37m\u001b[0m \u001b[1m1608s\u001b[0m 17s/step - accuracy: 0.4133 - loss: 2.0900 - val_accuracy: 0.4055 - val_loss: 2.0390\n",
      "Restoring model weights from the end of the best epoch: 5.\n"
     ]
    },
    {
     "data": {
      "text/plain": [
       "<matplotlib.legend.Legend at 0x15158ed60>"
      ]
     },
     "execution_count": 35,
     "metadata": {},
     "output_type": "execute_result"
    },
    {
     "data": {
      "image/png": "[encoded data removed]",
      "text/plain": [
       "<Figure size 600x400 with 1 Axes>"
      ]
     },
     "metadata": {},
     "output_type": "display_data"
    }
   ],
   "source": [
    "num_classes = len(set(y_train.numpy()))\n",
    "\n",
    "model = tf.keras.Sequential([\n",
    "    tf.keras.layers.Input(shape=(300, 300, 3)),\n",
    "    tf.keras.layers.Conv2D(32, 3, activation='relu'),\n",
    "    tf.keras.layers.MaxPooling2D(),\n",
    "    tf.keras.layers.Dropout(0.2),\n",
    "\n",
    "    tf.keras.layers.Conv2D(64, 3, activation='relu'),\n",
    "    tf.keras.layers.MaxPooling2D(),\n",
    "    tf.keras.layers.Dropout(0.3),\n",
    "\n",
    "    tf.keras.layers.Conv2D(128, 3, activation='relu'),\n",
    "    tf.keras.layers.MaxPooling2D(),\n",
    "    tf.keras.layers.Dropout(0.4),\n",
    "\n",
    "    # tf.keras.layers.Flatten(),\n",
    "    tf.keras.layers.GlobalAveragePooling2D(), #generalizes better and reduces overfitting risk\n",
    "    \n",
    "    tf.keras.layers.Dense(64, activation='relu'),\n",
    "    tf.keras.layers.Dropout(0.5),\n",
    "    tf.keras.layers.Dense(num_classes, activation='softmax')  # softmax for multi-class\n",
    "])\n",
    "\n",
    "model.compile(\n",
    "    optimizer='adam',\n",
    "    loss='sparse_categorical_crossentropy',\n",
    "    metrics=['accuracy']\n",
    ")\n",
    "\n",
    "history = model.fit(\n",
    "    X_train,\n",
    "    y_train,\n",
    "    validation_data=(X_val, y_val),\n",
    "    epochs=5,\n",
    "    batch_size=64,\n",
    "    callbacks=[early_stopping]\n",
    ")\n",
    "\n",
    "# plot loss curves\n",
    "### YOUR CODE HERE ###\n",
    "loss = history.history['loss']\n",
    "val_loss = history.history['val_loss']\n",
    "plt.figure(figsize=(6, 4))\n",
    "\n",
    "epochs = range(1, len(loss)+1)\n",
    "plt.plot(epochs, loss, label='Train Loss')\n",
    "plt.plot(epochs, val_loss, label='Val Loss')\n",
    "plt.title('Training and Validation Loss Over Epochs')\n",
    "plt.xlabel('Epoch')\n",
    "plt.ylabel('Loss')\n",
    "plt.legend()"
   ]
  },
  {
   "cell_type": "code",
   "execution_count": 54,
   "metadata": {},
   "outputs": [
    {
     "data": {
      "text/plain": [
       "0.15045871559633028"
      ]
     },
     "execution_count": 54,
     "metadata": {},
     "output_type": "execute_result"
    }
   ],
   "source": [
    "len(df_test[df_test['class'] == 'Agaricomycetes']) / len(df_test)"
   ]
  },
  {
   "cell_type": "code",
   "execution_count": 52,
   "metadata": {},
   "outputs": [
    {
     "name": "stdout",
     "output_type": "stream",
     "text": [
      "\u001b[1m35/35\u001b[0m \u001b[32m━━━━━━━━━━━━━━━━━━━━\u001b[0m\u001b[37m\u001b[0m \u001b[1m64s\u001b[0m 2s/step - accuracy: 0.1478 - loss: 2.4386\n",
      "Test Loss: 2.4416\n",
      "Test Accuracy: 0.1505\n"
     ]
    }
   ],
   "source": [
    "loss, accuracy = model.evaluate(X_test, y_test, batch_size=64)\n",
    "print(f\"Test Loss: {loss:.4f}\")\n",
    "print(f\"Test Accuracy: {accuracy:.4f}\")\n"
   ]
  }
 ],
 "metadata": {
  "kernelspec": {
   "display_name": ".venv",
   "language": "python",
   "name": "python3"
  },
  "language_info": {
   "codemirror_mode": {
    "name": "ipython",
    "version": 3
   },
   "file_extension": ".py",
   "mimetype": "text/x-python",
   "name": "python",
   "nbconvert_exporter": "python",
   "pygments_lexer": "ipython3",
   "version": "3.9.6"
  }
 },
 "nbformat": 4,
 "nbformat_minor": 2
}
