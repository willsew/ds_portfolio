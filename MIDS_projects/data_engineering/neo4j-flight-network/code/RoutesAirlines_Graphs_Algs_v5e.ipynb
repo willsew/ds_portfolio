{
 "cells": [
  {
   "cell_type": "markdown",
   "id": "235cb4b4",
   "metadata": {},
   "source": [
    "# Graph Types and Structures"
   ]
  },
  {
   "cell_type": "code",
   "execution_count": 1,
   "id": "4153f0d0",
   "metadata": {},
   "outputs": [],
   "source": [
    "import csv\n",
    "import math\n",
    "import numpy as np\n",
    "import pandas as pd\n",
    "import psycopg2"
   ]
  },
  {
   "cell_type": "code",
   "execution_count": 2,
   "id": "dd3ca994",
   "metadata": {},
   "outputs": [],
   "source": [
    "import neo4j\n",
    "from neo4j import GraphDatabase\n",
    "#from neo4j.exceptions import SessionError\n",
    "#from graphdatascience import GraphDataScience"
   ]
  },
  {
   "cell_type": "code",
   "execution_count": 3,
   "id": "999f914c",
   "metadata": {},
   "outputs": [],
   "source": [
    "driver = neo4j.GraphDatabase.driver(uri=\"neo4j://neo4j:7687\", auth=(\"neo4j\",\"ucb_mids_w205\"))"
   ]
  },
  {
   "cell_type": "code",
   "execution_count": 4,
   "id": "16d422bc",
   "metadata": {},
   "outputs": [
    {
     "name": "stdout",
     "output_type": "stream",
     "text": [
      "Connection to Neo4j established successfully!\n"
     ]
    }
   ],
   "source": [
    "driver.verify_connectivity()\n",
    "print(\"Connection to Neo4j established successfully!\")"
   ]
  },
  {
   "cell_type": "code",
   "execution_count": 5,
   "id": "800181bf",
   "metadata": {},
   "outputs": [],
   "source": [
    "session = driver.session(database=\"neo4j\")"
   ]
  },
  {
   "cell_type": "code",
   "execution_count": null,
   "id": "9b174079",
   "metadata": {},
   "outputs": [],
   "source": []
  },
  {
   "cell_type": "code",
   "execution_count": 6,
   "id": "492e605b",
   "metadata": {},
   "outputs": [],
   "source": [
    "df_routes = pd.read_csv('routes.csv')\n",
    "\n",
    "df_airports = pd.read_csv('airports.csv')"
   ]
  },
  {
   "cell_type": "code",
   "execution_count": 7,
   "id": "7c80b8ef",
   "metadata": {},
   "outputs": [],
   "source": [
    "#removing leading/trailing spaces\n",
    "df_routes.columns = df_routes.columns.str.strip()\n",
    "df_airports.columns = df_airports.columns.str.strip()\n",
    "\n",
    "# columns from the airports data\n",
    "df_airports_coords = df_airports[[\n",
    "    'iata_code', 'name', 'iso_country', 'municipality',\n",
    "    'latitude_deg', 'longitude_deg'\n",
    "]].copy()\n",
    "\n",
    "# Merge for the source airport coordinates and details\n",
    "df_merged = pd.merge(df_routes, df_airports_coords,\n",
    "                     left_on='source airport', right_on='iata_code',\n",
    "                     how='left', suffixes=('_source', None))\n",
    "df_merged.rename(columns={\n",
    "    'name': 'source_name',\n",
    "    'iso_country': 'source_iso_country',\n",
    "    'municipality': 'source_municipality',\n",
    "    'latitude_deg': 'source_lat',\n",
    "    'longitude_deg': 'source_lon'\n",
    "}, inplace=True)\n",
    "df_merged.drop('iata_code', axis=1, inplace=True)\n",
    "\n",
    "#Merge for the destination airport coordinates and details\n",
    "df_merged = pd.merge(df_merged, df_airports_coords,\n",
    "                     left_on='destination apirport', right_on='iata_code',\n",
    "                     how='left', suffixes=(None, '_dest'))\n",
    "df_merged.rename(columns={\n",
    "    'name': 'dest_name',\n",
    "    'iso_country': 'dest_iso_country',\n",
    "    'municipality': 'dest_municipality',\n",
    "    'latitude_deg': 'dest_lat',\n",
    "    'longitude_deg': 'dest_lon'\n",
    "}, inplace=True)\n",
    "df_merged.drop('iata_code', axis=1, inplace=True)"
   ]
  },
  {
   "cell_type": "code",
   "execution_count": 8,
   "id": "0b54668f",
   "metadata": {},
   "outputs": [],
   "source": [
    "#Define and apply the distance calculation function\n",
    "def haversine_distance(lat1, lon1, lat2, lon2):\n",
    "\n",
    "    R = 3958.8 # Earth's radius in miles\n",
    "\n",
    "    # Convert degrees to radians\n",
    "    lat1, lon1, lat2, lon2 = map(np.deg2rad, [lat1, lon1, lat2, lon2])\n",
    "\n",
    "    dlat = lat2 - lat1\n",
    "    dlon = lon2 - lon1\n",
    "    a = np.sin(dlat/2)**2 + np.cos(lat1) * np.cos(lat2) * np.sin(dlon/2)**2\n",
    "    c = 2 * np.arctan2(np.sqrt(a), np.sqrt(1-a))\n",
    "    distance = R * c\n",
    "    return distance\n",
    "\n",
    "#Calculate the distance for each route\n",
    "df_merged['distance_miles'] = df_merged.apply(\n",
    "    lambda row: haversine_distance(row['source_lat'], row['source_lon'],\n",
    "                                   row['dest_lat'], row['dest_lon']),\n",
    "    axis=1\n",
    ")"
   ]
  },
  {
   "cell_type": "code",
   "execution_count": 9,
   "id": "3cb09f18",
   "metadata": {},
   "outputs": [],
   "source": [
    "#Select columns for the final output\n",
    "final_columns = [\n",
    "    'airline', 'airline ID',\n",
    "    'source airport id', 'source airport',\n",
    "    'destination airport id', 'destination apirport',\n",
    "    'source_name', 'source_iso_country', 'source_municipality',\n",
    "    'dest_name', 'dest_iso_country', 'dest_municipality',\n",
    "    'source_lat', 'source_lon', 'dest_lat', 'dest_lon', 'distance_miles',\n",
    "    'codeshare', 'stops', 'equipment'\n",
    "]\n",
    "df_routes_all = df_merged[final_columns].copy()"
   ]
  },
  {
   "cell_type": "code",
   "execution_count": 10,
   "id": "8b0468f1",
   "metadata": {},
   "outputs": [],
   "source": [
    "#Save to csv\n",
    "df_routes_all.to_csv('routes_distances.csv', index=False)"
   ]
  },
  {
   "cell_type": "code",
   "execution_count": 11,
   "id": "896aabf2",
   "metadata": {},
   "outputs": [
    {
     "name": "stdout",
     "output_type": "stream",
     "text": [
      "Remaining rows after cleaning: 65989\n",
      "--------------------------------------------------\n"
     ]
    }
   ],
   "source": [
    "#convert IDs to ints\n",
    "for col in ['airline ID', 'stops']:\n",
    "    df_routes_all[col] = df_routes_all[col].replace('\\\\N', np.nan)\n",
    "    df_routes_all[col] = df_routes_all[col].apply(lambda x: int(x) if pd.notna(x) else None)\n",
    "\n",
    "#Drop rows with blank/NaN in ID columns\n",
    "critical_id_columns = ['airline ID', 'source_name', 'dest_name']\n",
    "df_routes_all.dropna(subset=critical_id_columns, inplace=True)\n",
    "rows_after_dropping = len(df_routes_all)\n",
    "print(f\"Remaining rows after cleaning: {rows_after_dropping}\")\n",
    "print(\"-\" * 50)\n",
    "\n",
    "df_routes_all['codeshare_boolean'] = df_routes_all['codeshare'].apply(\n",
    "    lambda x: True if (isinstance(x, str) and x.strip().upper() == 'Y') else False\n",
    ")\n",
    "\n",
    "df_routes_all.rename(columns={'destination apirport': 'destination airport'}, inplace=True)\n"
   ]
  },
  {
   "cell_type": "code",
   "execution_count": 12,
   "id": "b0c50946",
   "metadata": {},
   "outputs": [
    {
     "data": {
      "text/html": [
       "<div>\n",
       "<style scoped>\n",
       "    .dataframe tbody tr th:only-of-type {\n",
       "        vertical-align: middle;\n",
       "    }\n",
       "\n",
       "    .dataframe tbody tr th {\n",
       "        vertical-align: top;\n",
       "    }\n",
       "\n",
       "    .dataframe thead th {\n",
       "        text-align: right;\n",
       "    }\n",
       "</style>\n",
       "<table border=\"1\" class=\"dataframe\">\n",
       "  <thead>\n",
       "    <tr style=\"text-align: right;\">\n",
       "      <th></th>\n",
       "      <th>airline</th>\n",
       "      <th>airline ID</th>\n",
       "      <th>source airport id</th>\n",
       "      <th>source airport</th>\n",
       "      <th>destination airport id</th>\n",
       "      <th>destination airport</th>\n",
       "      <th>source_name</th>\n",
       "      <th>source_iso_country</th>\n",
       "      <th>source_municipality</th>\n",
       "      <th>dest_name</th>\n",
       "      <th>...</th>\n",
       "      <th>dest_municipality</th>\n",
       "      <th>source_lat</th>\n",
       "      <th>source_lon</th>\n",
       "      <th>dest_lat</th>\n",
       "      <th>dest_lon</th>\n",
       "      <th>distance_miles</th>\n",
       "      <th>codeshare</th>\n",
       "      <th>stops</th>\n",
       "      <th>equipment</th>\n",
       "      <th>codeshare_boolean</th>\n",
       "    </tr>\n",
       "  </thead>\n",
       "  <tbody>\n",
       "    <tr>\n",
       "      <th>0</th>\n",
       "      <td>2B</td>\n",
       "      <td>410.0</td>\n",
       "      <td>2965</td>\n",
       "      <td>AER</td>\n",
       "      <td>2990</td>\n",
       "      <td>KZN</td>\n",
       "      <td>Sochi International Airport</td>\n",
       "      <td>RU</td>\n",
       "      <td>Sochi</td>\n",
       "      <td>Kazan International Airport</td>\n",
       "      <td>...</td>\n",
       "      <td>Kazan</td>\n",
       "      <td>43.449902</td>\n",
       "      <td>39.956600</td>\n",
       "      <td>55.606201</td>\n",
       "      <td>49.278702</td>\n",
       "      <td>936.308455</td>\n",
       "      <td>NaN</td>\n",
       "      <td>0</td>\n",
       "      <td>CR2</td>\n",
       "      <td>False</td>\n",
       "    </tr>\n",
       "    <tr>\n",
       "      <th>1</th>\n",
       "      <td>2B</td>\n",
       "      <td>410.0</td>\n",
       "      <td>2966</td>\n",
       "      <td>ASF</td>\n",
       "      <td>2990</td>\n",
       "      <td>KZN</td>\n",
       "      <td>Astrakhan Narimanovo Boris M. Kustodiev Intern...</td>\n",
       "      <td>RU</td>\n",
       "      <td>Astrakhan</td>\n",
       "      <td>Kazan International Airport</td>\n",
       "      <td>...</td>\n",
       "      <td>Kazan</td>\n",
       "      <td>46.282843</td>\n",
       "      <td>48.010511</td>\n",
       "      <td>55.606201</td>\n",
       "      <td>49.278702</td>\n",
       "      <td>646.521493</td>\n",
       "      <td>NaN</td>\n",
       "      <td>0</td>\n",
       "      <td>CR2</td>\n",
       "      <td>False</td>\n",
       "    </tr>\n",
       "    <tr>\n",
       "      <th>2</th>\n",
       "      <td>2B</td>\n",
       "      <td>410.0</td>\n",
       "      <td>2966</td>\n",
       "      <td>ASF</td>\n",
       "      <td>2962</td>\n",
       "      <td>MRV</td>\n",
       "      <td>Astrakhan Narimanovo Boris M. Kustodiev Intern...</td>\n",
       "      <td>RU</td>\n",
       "      <td>Astrakhan</td>\n",
       "      <td>Mineralnyye Vody Airport</td>\n",
       "      <td>...</td>\n",
       "      <td>Mineralnyye Vody</td>\n",
       "      <td>46.282843</td>\n",
       "      <td>48.010511</td>\n",
       "      <td>44.225101</td>\n",
       "      <td>43.081902</td>\n",
       "      <td>278.640578</td>\n",
       "      <td>NaN</td>\n",
       "      <td>0</td>\n",
       "      <td>CR2</td>\n",
       "      <td>False</td>\n",
       "    </tr>\n",
       "    <tr>\n",
       "      <th>3</th>\n",
       "      <td>2B</td>\n",
       "      <td>410.0</td>\n",
       "      <td>2968</td>\n",
       "      <td>CEK</td>\n",
       "      <td>2990</td>\n",
       "      <td>KZN</td>\n",
       "      <td>Chelyabinsk Balandino Airport</td>\n",
       "      <td>RU</td>\n",
       "      <td>Chelyabinsk</td>\n",
       "      <td>Kazan International Airport</td>\n",
       "      <td>...</td>\n",
       "      <td>Kazan</td>\n",
       "      <td>55.305801</td>\n",
       "      <td>61.503300</td>\n",
       "      <td>55.606201</td>\n",
       "      <td>49.278702</td>\n",
       "      <td>478.777115</td>\n",
       "      <td>NaN</td>\n",
       "      <td>0</td>\n",
       "      <td>CR2</td>\n",
       "      <td>False</td>\n",
       "    </tr>\n",
       "    <tr>\n",
       "      <th>4</th>\n",
       "      <td>2B</td>\n",
       "      <td>410.0</td>\n",
       "      <td>2968</td>\n",
       "      <td>CEK</td>\n",
       "      <td>4078</td>\n",
       "      <td>OVB</td>\n",
       "      <td>Chelyabinsk Balandino Airport</td>\n",
       "      <td>RU</td>\n",
       "      <td>Chelyabinsk</td>\n",
       "      <td>Novosibirsk Tolmachevo Airport</td>\n",
       "      <td>...</td>\n",
       "      <td>Novosibirsk</td>\n",
       "      <td>55.305801</td>\n",
       "      <td>61.503300</td>\n",
       "      <td>55.019756</td>\n",
       "      <td>82.618675</td>\n",
       "      <td>830.460631</td>\n",
       "      <td>NaN</td>\n",
       "      <td>0</td>\n",
       "      <td>CR2</td>\n",
       "      <td>False</td>\n",
       "    </tr>\n",
       "  </tbody>\n",
       "</table>\n",
       "<p>5 rows × 21 columns</p>\n",
       "</div>"
      ],
      "text/plain": [
       "  airline  airline ID source airport id source airport destination airport id  \\\n",
       "0      2B       410.0              2965            AER                   2990   \n",
       "1      2B       410.0              2966            ASF                   2990   \n",
       "2      2B       410.0              2966            ASF                   2962   \n",
       "3      2B       410.0              2968            CEK                   2990   \n",
       "4      2B       410.0              2968            CEK                   4078   \n",
       "\n",
       "  destination airport                                        source_name  \\\n",
       "0                 KZN                        Sochi International Airport   \n",
       "1                 KZN  Astrakhan Narimanovo Boris M. Kustodiev Intern...   \n",
       "2                 MRV  Astrakhan Narimanovo Boris M. Kustodiev Intern...   \n",
       "3                 KZN                      Chelyabinsk Balandino Airport   \n",
       "4                 OVB                      Chelyabinsk Balandino Airport   \n",
       "\n",
       "  source_iso_country source_municipality                       dest_name  ...  \\\n",
       "0                 RU               Sochi     Kazan International Airport  ...   \n",
       "1                 RU           Astrakhan     Kazan International Airport  ...   \n",
       "2                 RU           Astrakhan        Mineralnyye Vody Airport  ...   \n",
       "3                 RU         Chelyabinsk     Kazan International Airport  ...   \n",
       "4                 RU         Chelyabinsk  Novosibirsk Tolmachevo Airport  ...   \n",
       "\n",
       "  dest_municipality source_lat  source_lon   dest_lat   dest_lon  \\\n",
       "0             Kazan  43.449902   39.956600  55.606201  49.278702   \n",
       "1             Kazan  46.282843   48.010511  55.606201  49.278702   \n",
       "2  Mineralnyye Vody  46.282843   48.010511  44.225101  43.081902   \n",
       "3             Kazan  55.305801   61.503300  55.606201  49.278702   \n",
       "4       Novosibirsk  55.305801   61.503300  55.019756  82.618675   \n",
       "\n",
       "   distance_miles  codeshare stops  equipment codeshare_boolean  \n",
       "0      936.308455        NaN     0        CR2             False  \n",
       "1      646.521493        NaN     0        CR2             False  \n",
       "2      278.640578        NaN     0        CR2             False  \n",
       "3      478.777115        NaN     0        CR2             False  \n",
       "4      830.460631        NaN     0        CR2             False  \n",
       "\n",
       "[5 rows x 21 columns]"
      ]
     },
     "execution_count": 12,
     "metadata": {},
     "output_type": "execute_result"
    }
   ],
   "source": [
    "df_routes_all.head()"
   ]
  },
  {
   "cell_type": "code",
   "execution_count": 13,
   "id": "21c72b36",
   "metadata": {},
   "outputs": [
    {
     "data": {
      "text/plain": [
       "(65989, 21)"
      ]
     },
     "execution_count": 13,
     "metadata": {},
     "output_type": "execute_result"
    }
   ],
   "source": [
    "df_routes_all.shape"
   ]
  },
  {
   "cell_type": "code",
   "execution_count": 14,
   "id": "50dc00fd",
   "metadata": {},
   "outputs": [
    {
     "data": {
      "text/plain": [
       "airline                    object\n",
       "airline ID                float64\n",
       "source airport id          object\n",
       "source airport             object\n",
       "destination airport id     object\n",
       "destination airport        object\n",
       "source_name                object\n",
       "source_iso_country         object\n",
       "source_municipality        object\n",
       "dest_name                  object\n",
       "dest_iso_country           object\n",
       "dest_municipality          object\n",
       "source_lat                float64\n",
       "source_lon                float64\n",
       "dest_lat                  float64\n",
       "dest_lon                  float64\n",
       "distance_miles            float64\n",
       "codeshare                  object\n",
       "stops                       int64\n",
       "equipment                  object\n",
       "codeshare_boolean            bool\n",
       "dtype: object"
      ]
     },
     "execution_count": 14,
     "metadata": {},
     "output_type": "execute_result"
    }
   ],
   "source": [
    "df_routes_all.dtypes"
   ]
  },
  {
   "cell_type": "code",
   "execution_count": null,
   "id": "29fbd3bb",
   "metadata": {},
   "outputs": [],
   "source": []
  },
  {
   "cell_type": "code",
   "execution_count": 15,
   "id": "1ee294a6",
   "metadata": {},
   "outputs": [],
   "source": [
    "df = df_routes_all.head(800)\n",
    "data_rows = df.to_dict('records')"
   ]
  },
  {
   "cell_type": "code",
   "execution_count": 16,
   "id": "1c95b5a1",
   "metadata": {},
   "outputs": [],
   "source": [
    "def Monopartite_graph(tx, data):\n",
    "\n",
    "    query = \"\"\"\n",
    "    UNWIND $rows AS row\n",
    "    MERGE (departure:Airport {id: row.`source airport id`, name: row.`source airport`})\n",
    "    MERGE (arrival:Airport {id: row.`destination airport id`, name: row.`destination airport`})\n",
    "    MERGE (departure)-[:FLIGHT {distance_miles: toFloat(row.distance_miles)}]->(arrival)\n",
    "    \"\"\"\n",
    "    tx.run(query, rows=data)\n",
    "    print(\"Monopartite graph created.\")"
   ]
  },
  {
   "cell_type": "code",
   "execution_count": 36,
   "id": "2567da27",
   "metadata": {},
   "outputs": [],
   "source": [
    "def Bipartite_graph(tx, data):\n",
    "\n",
    "    query = \"\"\"\n",
    "    UNWIND $rows AS row\n",
    "\n",
    "    MERGE (airline:Airline {id: row.`airline ID`})\n",
    "      ON CREATE SET airline.name = row.airline\n",
    "\n",
    "    MERGE (departure_airport:Airport {id: row.`source airport id`})\n",
    "      ON CREATE SET departure_airport.name = row.`source airport`\n",
    "\n",
    "    MERGE (arrival_airport:Airport {id: row.`destination airport id`})\n",
    "      ON CREATE SET arrival_airport.name = row.`destination airport`\n",
    "\n",
    "    MERGE (airline)-[:OPERATES_AT]->(departure_airport)\n",
    "    MERGE (airline)-[:OPERATES_AT]->(arrival_airport)\n",
    "    \"\"\"\n",
    "    tx.run(query, rows=data)\n",
    "    print(\"Bipartite graph created.\")"
   ]
  },
  {
   "cell_type": "code",
   "execution_count": null,
   "id": "eaa6379f",
   "metadata": {},
   "outputs": [],
   "source": [
    "def Threepartite_graph(tx, data):\n",
    "\n",
    "    query = \"\"\"\n",
    "    UNWIND $rows AS row\n",
    "    MERGE (departure:Airport {id: row.`source airport id`, name: row.`source airport`})\n",
    "    MERGE (arrival:Airport {id: row.`destination airport id`, name: row.`destination airport`})\n",
    "    MERGE (flight:Flight {airline: row.airline, airline_id: row.`airline ID`})\n",
    "    MERGE (departure)-[:DEPARTS_AS]->(flight)\n",
    "    MERGE (flight)-[:ARRIVES_AT]->(arrival)\n",
    "    \"\"\"\n",
    "    tx.run(query, rows=data)\n",
    "    print(\"Bipartite graph created.\")"
   ]
  },
  {
   "cell_type": "code",
   "execution_count": 20,
   "id": "7071c9f5",
   "metadata": {},
   "outputs": [],
   "source": [
    "def my_neo4j_wipe_out_database():\n",
    "    \"wipe out database by deleting all nodes and relationships\"\n",
    "    \n",
    "    query = \"match (node)-[relationship]->() delete node, relationship\"\n",
    "    session.run(query)\n",
    "    \n",
    "    query = \"match (node) delete node\"\n",
    "    session.run(query)"
   ]
  },
  {
   "cell_type": "code",
   "execution_count": 28,
   "id": "14ce49e2",
   "metadata": {},
   "outputs": [],
   "source": [
    "driver = neo4j.GraphDatabase.driver(uri=\"neo4j://neo4j:7687\", auth=(\"neo4j\",\"ucb_mids_w205\"))"
   ]
  },
  {
   "cell_type": "code",
   "execution_count": 34,
   "id": "53073c35",
   "metadata": {},
   "outputs": [],
   "source": [
    "session = driver.session(database=\"neo4j\")"
   ]
  },
  {
   "cell_type": "code",
   "execution_count": 38,
   "id": "7d1a2364",
   "metadata": {},
   "outputs": [
    {
     "name": "stdout",
     "output_type": "stream",
     "text": [
      "Creating Monopartite Graph\n",
      "Monopartite graph created.\n"
     ]
    }
   ],
   "source": [
    "print(\"Creating Monopartite Graph\")\n",
    "with driver.session() as session:\n",
    "    my_neo4j_wipe_out_database()\n",
    "    session.execute_write(Monopartite_graph, data=data_rows)"
   ]
  },
  {
   "cell_type": "code",
   "execution_count": 37,
   "id": "2543b9b6",
   "metadata": {},
   "outputs": [
    {
     "name": "stdout",
     "output_type": "stream",
     "text": [
      "Creating Bipartite Graph\n",
      "Bipartite graph created.\n"
     ]
    }
   ],
   "source": [
    "print(\"Creating Bipartite Graph\")\n",
    "with driver.session() as session:\n",
    "    my_neo4j_wipe_out_database()\n",
    "    session.execute_write(Bipartite_graph, data=data_rows)"
   ]
  },
  {
   "cell_type": "code",
   "execution_count": null,
   "id": "c578c9ed",
   "metadata": {},
   "outputs": [],
   "source": []
  },
  {
   "cell_type": "code",
   "execution_count": null,
   "id": "2ad402f6",
   "metadata": {},
   "outputs": [],
   "source": []
  },
  {
   "cell_type": "code",
   "execution_count": 41,
   "id": "d57f06b2",
   "metadata": {},
   "outputs": [],
   "source": [
    "def my_neo4j_run_query_pandas(query, **kwargs):\n",
    "    \"run a query and return the results in a pandas dataframe\"\n",
    "    \n",
    "    result = session.run(query, **kwargs)\n",
    "    \n",
    "    df = pd.DataFrame([r.values() for r in result], columns=result.keys())\n",
    "    \n",
    "    return df"
   ]
  },
  {
   "cell_type": "code",
   "execution_count": 42,
   "id": "ab664564",
   "metadata": {},
   "outputs": [],
   "source": [
    "def my_neo4j_nodes_relationships():\n",
    "    \"print all the nodes and relationships\"\n",
    "   \n",
    "    print(\"-------------------------\")\n",
    "    print(\"  Nodes:\")\n",
    "    print(\"-------------------------\")\n",
    "    \n",
    "    query = \"\"\"\n",
    "        match (n) \n",
    "        return n.name as node_name, labels(n) as labels\n",
    "        order by n.name\n",
    "    \"\"\"\n",
    "    \n",
    "    df = my_neo4j_run_query_pandas(query)\n",
    "    \n",
    "    number_nodes = df.shape[0]\n",
    "    \n",
    "    display(df)\n",
    "    \n",
    "    print(\"-------------------------\")\n",
    "    print(\"  Relationships:\")\n",
    "    print(\"-------------------------\")\n",
    "    \n",
    "    query = \"\"\"\n",
    "        match (n1)-[r]->(n2) \n",
    "        return n1.name as node_name_1, labels(n1) as node_1_labels, \n",
    "            type(r) as relationship_type, n2.name as node_name_2, labels(n2) as node_2_labels\n",
    "        order by node_name_1, node_name_2\n",
    "    \"\"\"\n",
    "    \n",
    "    df = my_neo4j_run_query_pandas(query)\n",
    "    \n",
    "    number_relationships = df.shape[0]\n",
    "    \n",
    "    display(df)\n",
    "    \n",
    "    density = (2 * number_relationships) / (number_nodes * (number_nodes - 1))\n",
    "    \n",
    "    print(\"-------------------------\")\n",
    "    print(\"  Density:\", f'{density:.1f}')\n",
    "    print(\"-------------------------\")\n",
    "    "
   ]
  },
  {
   "cell_type": "code",
   "execution_count": 43,
   "id": "b3e1b877",
   "metadata": {},
   "outputs": [],
   "source": [
    "session = driver.session(database=\"neo4j\")"
   ]
  },
  {
   "cell_type": "code",
   "execution_count": 44,
   "id": "a90d2598",
   "metadata": {
    "scrolled": true
   },
   "outputs": [
    {
     "name": "stdout",
     "output_type": "stream",
     "text": [
      "-------------------------\n",
      "  Nodes:\n",
      "-------------------------\n"
     ]
    },
    {
     "data": {
      "text/html": [
       "<div>\n",
       "<style scoped>\n",
       "    .dataframe tbody tr th:only-of-type {\n",
       "        vertical-align: middle;\n",
       "    }\n",
       "\n",
       "    .dataframe tbody tr th {\n",
       "        vertical-align: top;\n",
       "    }\n",
       "\n",
       "    .dataframe thead th {\n",
       "        text-align: right;\n",
       "    }\n",
       "</style>\n",
       "<table border=\"1\" class=\"dataframe\">\n",
       "  <thead>\n",
       "    <tr style=\"text-align: right;\">\n",
       "      <th></th>\n",
       "      <th>node_name</th>\n",
       "      <th>labels</th>\n",
       "    </tr>\n",
       "  </thead>\n",
       "  <tbody>\n",
       "    <tr>\n",
       "      <th>0</th>\n",
       "      <td>ABJ</td>\n",
       "      <td>[Airport]</td>\n",
       "    </tr>\n",
       "    <tr>\n",
       "      <th>1</th>\n",
       "      <td>ACC</td>\n",
       "      <td>[Airport]</td>\n",
       "    </tr>\n",
       "    <tr>\n",
       "      <th>2</th>\n",
       "      <td>ACH</td>\n",
       "      <td>[Airport]</td>\n",
       "    </tr>\n",
       "    <tr>\n",
       "      <th>3</th>\n",
       "      <td>ADQ</td>\n",
       "      <td>[Airport]</td>\n",
       "    </tr>\n",
       "    <tr>\n",
       "      <th>4</th>\n",
       "      <td>AER</td>\n",
       "      <td>[Airport]</td>\n",
       "    </tr>\n",
       "    <tr>\n",
       "      <th>...</th>\n",
       "      <td>...</td>\n",
       "      <td>...</td>\n",
       "    </tr>\n",
       "    <tr>\n",
       "      <th>310</th>\n",
       "      <td>ZAM</td>\n",
       "      <td>[Airport]</td>\n",
       "    </tr>\n",
       "    <tr>\n",
       "      <th>311</th>\n",
       "      <td>ZHA</td>\n",
       "      <td>[Airport]</td>\n",
       "    </tr>\n",
       "    <tr>\n",
       "      <th>312</th>\n",
       "      <td>ZHY</td>\n",
       "      <td>[Airport]</td>\n",
       "    </tr>\n",
       "    <tr>\n",
       "      <th>313</th>\n",
       "      <td>ZRH</td>\n",
       "      <td>[Airport]</td>\n",
       "    </tr>\n",
       "    <tr>\n",
       "      <th>314</th>\n",
       "      <td>ZUH</td>\n",
       "      <td>[Airport]</td>\n",
       "    </tr>\n",
       "  </tbody>\n",
       "</table>\n",
       "<p>315 rows × 2 columns</p>\n",
       "</div>"
      ],
      "text/plain": [
       "    node_name     labels\n",
       "0         ABJ  [Airport]\n",
       "1         ACC  [Airport]\n",
       "2         ACH  [Airport]\n",
       "3         ADQ  [Airport]\n",
       "4         AER  [Airport]\n",
       "..        ...        ...\n",
       "310       ZAM  [Airport]\n",
       "311       ZHA  [Airport]\n",
       "312       ZHY  [Airport]\n",
       "313       ZRH  [Airport]\n",
       "314       ZUH  [Airport]\n",
       "\n",
       "[315 rows x 2 columns]"
      ]
     },
     "metadata": {},
     "output_type": "display_data"
    },
    {
     "name": "stdout",
     "output_type": "stream",
     "text": [
      "-------------------------\n",
      "  Relationships:\n",
      "-------------------------\n"
     ]
    },
    {
     "data": {
      "text/html": [
       "<div>\n",
       "<style scoped>\n",
       "    .dataframe tbody tr th:only-of-type {\n",
       "        vertical-align: middle;\n",
       "    }\n",
       "\n",
       "    .dataframe tbody tr th {\n",
       "        vertical-align: top;\n",
       "    }\n",
       "\n",
       "    .dataframe thead th {\n",
       "        text-align: right;\n",
       "    }\n",
       "</style>\n",
       "<table border=\"1\" class=\"dataframe\">\n",
       "  <thead>\n",
       "    <tr style=\"text-align: right;\">\n",
       "      <th></th>\n",
       "      <th>node_name_1</th>\n",
       "      <th>node_1_labels</th>\n",
       "      <th>relationship_type</th>\n",
       "      <th>node_name_2</th>\n",
       "      <th>node_2_labels</th>\n",
       "    </tr>\n",
       "  </thead>\n",
       "  <tbody>\n",
       "    <tr>\n",
       "      <th>0</th>\n",
       "      <td>ABJ</td>\n",
       "      <td>[Airport]</td>\n",
       "      <td>FLIGHT</td>\n",
       "      <td>BOY</td>\n",
       "      <td>[Airport]</td>\n",
       "    </tr>\n",
       "    <tr>\n",
       "      <th>1</th>\n",
       "      <td>ABJ</td>\n",
       "      <td>[Airport]</td>\n",
       "      <td>FLIGHT</td>\n",
       "      <td>OUA</td>\n",
       "      <td>[Airport]</td>\n",
       "    </tr>\n",
       "    <tr>\n",
       "      <th>2</th>\n",
       "      <td>ACC</td>\n",
       "      <td>[Airport]</td>\n",
       "      <td>FLIGHT</td>\n",
       "      <td>DKR</td>\n",
       "      <td>[Airport]</td>\n",
       "    </tr>\n",
       "    <tr>\n",
       "      <th>3</th>\n",
       "      <td>ACC</td>\n",
       "      <td>[Airport]</td>\n",
       "      <td>FLIGHT</td>\n",
       "      <td>LOS</td>\n",
       "      <td>[Airport]</td>\n",
       "    </tr>\n",
       "    <tr>\n",
       "      <th>4</th>\n",
       "      <td>ACC</td>\n",
       "      <td>[Airport]</td>\n",
       "      <td>FLIGHT</td>\n",
       "      <td>OUA</td>\n",
       "      <td>[Airport]</td>\n",
       "    </tr>\n",
       "    <tr>\n",
       "      <th>...</th>\n",
       "      <td>...</td>\n",
       "      <td>...</td>\n",
       "      <td>...</td>\n",
       "      <td>...</td>\n",
       "      <td>...</td>\n",
       "    </tr>\n",
       "    <tr>\n",
       "      <th>793</th>\n",
       "      <td>ZRH</td>\n",
       "      <td>[Airport]</td>\n",
       "      <td>FLIGHT</td>\n",
       "      <td>GRZ</td>\n",
       "      <td>[Airport]</td>\n",
       "    </tr>\n",
       "    <tr>\n",
       "      <th>794</th>\n",
       "      <td>ZRH</td>\n",
       "      <td>[Airport]</td>\n",
       "      <td>FLIGHT</td>\n",
       "      <td>LCA</td>\n",
       "      <td>[Airport]</td>\n",
       "    </tr>\n",
       "    <tr>\n",
       "      <th>795</th>\n",
       "      <td>ZRH</td>\n",
       "      <td>[Airport]</td>\n",
       "      <td>FLIGHT</td>\n",
       "      <td>LPA</td>\n",
       "      <td>[Airport]</td>\n",
       "    </tr>\n",
       "    <tr>\n",
       "      <th>796</th>\n",
       "      <td>ZRH</td>\n",
       "      <td>[Airport]</td>\n",
       "      <td>FLIGHT</td>\n",
       "      <td>RMF</td>\n",
       "      <td>[Airport]</td>\n",
       "    </tr>\n",
       "    <tr>\n",
       "      <th>797</th>\n",
       "      <td>ZRH</td>\n",
       "      <td>[Airport]</td>\n",
       "      <td>FLIGHT</td>\n",
       "      <td>SZG</td>\n",
       "      <td>[Airport]</td>\n",
       "    </tr>\n",
       "  </tbody>\n",
       "</table>\n",
       "<p>798 rows × 5 columns</p>\n",
       "</div>"
      ],
      "text/plain": [
       "    node_name_1 node_1_labels relationship_type node_name_2 node_2_labels\n",
       "0           ABJ     [Airport]            FLIGHT         BOY     [Airport]\n",
       "1           ABJ     [Airport]            FLIGHT         OUA     [Airport]\n",
       "2           ACC     [Airport]            FLIGHT         DKR     [Airport]\n",
       "3           ACC     [Airport]            FLIGHT         LOS     [Airport]\n",
       "4           ACC     [Airport]            FLIGHT         OUA     [Airport]\n",
       "..          ...           ...               ...         ...           ...\n",
       "793         ZRH     [Airport]            FLIGHT         GRZ     [Airport]\n",
       "794         ZRH     [Airport]            FLIGHT         LCA     [Airport]\n",
       "795         ZRH     [Airport]            FLIGHT         LPA     [Airport]\n",
       "796         ZRH     [Airport]            FLIGHT         RMF     [Airport]\n",
       "797         ZRH     [Airport]            FLIGHT         SZG     [Airport]\n",
       "\n",
       "[798 rows x 5 columns]"
      ]
     },
     "metadata": {},
     "output_type": "display_data"
    },
    {
     "name": "stdout",
     "output_type": "stream",
     "text": [
      "-------------------------\n",
      "  Density: 0.0\n",
      "-------------------------\n"
     ]
    }
   ],
   "source": [
    "my_neo4j_nodes_relationships()"
   ]
  },
  {
   "cell_type": "code",
   "execution_count": 45,
   "id": "5bfdc75b",
   "metadata": {},
   "outputs": [
    {
     "name": "stdout",
     "output_type": "stream",
     "text": [
      "Neo4j driver closed.\n"
     ]
    }
   ],
   "source": [
    "if 'driver' in locals() and driver:\n",
    "    driver.close()\n",
    "    print(\"Neo4j driver closed.\")"
   ]
  },
  {
   "cell_type": "code",
   "execution_count": null,
   "id": "1ff633d3",
   "metadata": {},
   "outputs": [],
   "source": []
  },
  {
   "cell_type": "markdown",
   "id": "be555dcb",
   "metadata": {},
   "source": [
    "## Density Calculations:\n",
    "\n",
    "* Maximum Density = (nodes (nodes - 1) ) / 2\n",
    "\n",
    "\n",
    "* Actual Density = (2 * relationships) / (nodes * (nodes - 1) )"
   ]
  },
  {
   "cell_type": "markdown",
   "id": "7cbc3924",
   "metadata": {},
   "source": [
    "## Monopartitie - 1 node label, 1 relationship type, all graphs we have seen so far are monopartitie"
   ]
  },
  {
   "cell_type": "markdown",
   "id": "f4110961",
   "metadata": {},
   "source": [
    "## Bipartite - two sets, nodes from one set only connect to nodes in the other set"
   ]
  },
  {
   "cell_type": "markdown",
   "id": "27857027",
   "metadata": {},
   "source": [
    "## k-Partite - k sets, nodes from one set only connect to nodes in another set, most real world graphs have a high k value; in this example k=4: Person, Club, Course, Day"
   ]
  },
  {
   "cell_type": "code",
   "execution_count": null,
   "id": "fa1f328b",
   "metadata": {},
   "outputs": [],
   "source": []
  }
 ],
 "metadata": {
  "kernelspec": {
   "display_name": "Python 3 (ipykernel)",
   "language": "python",
   "name": "python3"
  },
  "language_info": {
   "codemirror_mode": {
    "name": "ipython",
    "version": 3
   },
   "file_extension": ".py",
   "mimetype": "text/x-python",
   "name": "python",
   "nbconvert_exporter": "python",
   "pygments_lexer": "ipython3",
   "version": "3.9.7"
  }
 },
 "nbformat": 4,
 "nbformat_minor": 5
}
